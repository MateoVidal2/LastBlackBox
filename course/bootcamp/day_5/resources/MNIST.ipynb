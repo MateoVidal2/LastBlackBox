{
 "cells": [
  {
   "cell_type": "code",
   "execution_count": 2,
   "metadata": {},
   "outputs": [],
   "source": [
    "import tensorflow as tf"
   ]
  },
  {
   "cell_type": "markdown",
   "metadata": {},
   "source": [
    "Loading MNIST"
   ]
  },
  {
   "cell_type": "code",
   "execution_count": 3,
   "metadata": {},
   "outputs": [],
   "source": [
    "mnist = tf.keras.datasets.mnist\n",
    "\n",
    "(x_train, y_train), (x_test, y_test) = mnist.load_data()\n",
    "x_train, x_test = x_train / 255.0, x_test / 255.0"
   ]
  },
  {
   "cell_type": "markdown",
   "metadata": {},
   "source": [
    "Look at data at least once\n",
    "--> show here an example data point"
   ]
  },
  {
   "cell_type": "code",
   "execution_count": 6,
   "metadata": {},
   "outputs": [
    {
     "data": {
      "text/plain": [
       "Text(0.5,1,'5')"
      ]
     },
     "execution_count": 6,
     "metadata": {},
     "output_type": "execute_result"
    },
    {
     "data": {
      "image/png": "[encoded data removed]",
      "text/plain": [
       "<matplotlib.figure.Figure at 0x2188e5ea748>"
      ]
     },
     "metadata": {},
     "output_type": "display_data"
    }
   ],
   "source": [
    "import matplotlib.pyplot as plt\n",
    "%matplotlib inline\n",
    "plt.imshow(x_train[0])\n",
    "plt.title(y_train[0])"
   ]
  },
  {
   "cell_type": "markdown",
   "metadata": {},
   "source": [
    "Create model"
   ]
  },
  {
   "cell_type": "code",
   "execution_count": 52,
   "metadata": {},
   "outputs": [],
   "source": [
    "model = tf.keras.models.Sequential([\n",
    "  tf.keras.layers.Flatten(input_shape=(28, 28)),\n",
    "  tf.keras.layers.Dense(64, activation='relu'),\n",
    "  tf.keras.layers.Dense(128, activation='relu'),  \n",
    "  tf.keras.layers.Dropout(0.2),\n",
    "  tf.keras.layers.Dense(10, activation='softmax')\n",
    "]) # Multilayer perceptron"
   ]
  },
  {
   "cell_type": "markdown",
   "metadata": {},
   "source": [
    "Tell model how to optimize (`adam`) and which error function/loss to use (`sparse_categorical_crossentropy`)."
   ]
  },
  {
   "cell_type": "markdown",
   "metadata": {},
   "source": [
    "Change adam to something else, check the documentation, what optimizers are commonly used? Write here a list"
   ]
  },
  {
   "cell_type": "code",
   "execution_count": 53,
   "metadata": {},
   "outputs": [],
   "source": [
    "model.compile(\"adam\", \"sparse_categorical_crossentropy\", metrics=['acc'])"
   ]
  },
  {
   "cell_type": "markdown",
   "metadata": {},
   "source": [
    "Show the whole bunch of training data `10` times (--> `epochs`) to the model."
   ]
  },
  {
   "cell_type": "code",
   "execution_count": 54,
   "metadata": {},
   "outputs": [
    {
     "name": "stdout",
     "output_type": "stream",
     "text": [
      "Epoch 1/10\n",
      "60000/60000 [==============================] - 9s 152us/sample - loss: 0.2911 - acc: 0.9131\n",
      "Epoch 2/10\n",
      "60000/60000 [==============================] - 8s 131us/sample - loss: 0.1320 - acc: 0.9599\n",
      "Epoch 3/10\n",
      "60000/60000 [==============================] - 10s 172us/sample - loss: 0.0970 - acc: 0.9707\n",
      "Epoch 4/10\n",
      "60000/60000 [==============================] - 8s 140us/sample - loss: 0.0802 - acc: 0.9747\n",
      "Epoch 5/10\n",
      "60000/60000 [==============================] - 9s 152us/sample - loss: 0.0655 - acc: 0.9793\n",
      "Epoch 6/10\n",
      "60000/60000 [==============================] - 9s 148us/sample - loss: 0.0560 - acc: 0.9816\n",
      "Epoch 7/10\n",
      "60000/60000 [==============================] - 9s 148us/sample - loss: 0.0495 - acc: 0.9840s - loss: 0.0494 - acc: 0.98\n",
      "Epoch 8/10\n",
      "60000/60000 [==============================] - 9s 153us/sample - loss: 0.0402 - acc: 0.9872\n",
      "Epoch 9/10\n",
      "60000/60000 [==============================] - 9s 154us/sample - loss: 0.0387 - acc: 0.9868\n",
      "Epoch 10/10\n",
      "60000/60000 [==============================] - 10s 161us/sample - loss: 0.0357 - acc: 0.9877\n"
     ]
    }
   ],
   "source": [
    "h = model.fit(x_train, y_train, epochs=10)"
   ]
  },
  {
   "cell_type": "markdown",
   "metadata": {},
   "source": [
    "Plotting how the model learned."
   ]
  },
  {
   "cell_type": "code",
   "execution_count": 30,
   "metadata": {},
   "outputs": [],
   "source": [
    "import numpy as np"
   ]
  },
  {
   "cell_type": "code",
   "execution_count": 35,
   "metadata": {},
   "outputs": [
    {
     "data": {
      "text/plain": [
       "([<matplotlib.axis.XTick at 0x2192c5e8748>,\n",
       "  <matplotlib.axis.XTick at 0x21927629ef0>,\n",
       "  <matplotlib.axis.XTick at 0x2192c618be0>,\n",
       "  <matplotlib.axis.XTick at 0x2192c632e80>,\n",
       "  <matplotlib.axis.XTick at 0x2192c63a518>,\n",
       "  <matplotlib.axis.XTick at 0x2192c63ab70>,\n",
       "  <matplotlib.axis.XTick at 0x2192c63e240>,\n",
       "  <matplotlib.axis.XTick at 0x2192c63e8d0>,\n",
       "  <matplotlib.axis.XTick at 0x2192c63ef60>,\n",
       "  <matplotlib.axis.XTick at 0x2192c644630>],\n",
       " <a list of 10 Text xticklabel objects>)"
      ]
     },
     "execution_count": 35,
     "metadata": {},
     "output_type": "execute_result"
    },
    {
     "data": {
      "image/png": "[encoded data removed]",
      "text/plain": [
       "<matplotlib.figure.Figure at 0x2192c5ddc18>"
      ]
     },
     "metadata": {},
     "output_type": "display_data"
    }
   ],
   "source": [
    "plt.plot(np.arange(10), h.history['loss'], 'ko--')\n",
    "plt.ylabel(\"loss\")\n",
    "plt.xlabel(\"epoch\")\n",
    "plt.xticks(np.arange(10), np.arange(10)+1)"
   ]
  },
  {
   "cell_type": "markdown",
   "metadata": {},
   "source": [
    "Evaluate the model on previously unseen data"
   ]
  },
  {
   "cell_type": "code",
   "execution_count": 55,
   "metadata": {},
   "outputs": [
    {
     "name": "stdout",
     "output_type": "stream",
     "text": [
      "10000/10000 [==============================] - 1s 123us/sample - loss: 0.0898 - acc: 0.9772\n"
     ]
    },
    {
     "data": {
      "text/plain": [
       "[0.0898097074151614, 0.9772]"
      ]
     },
     "execution_count": 55,
     "metadata": {},
     "output_type": "execute_result"
    }
   ],
   "source": [
    "model.evaluate(x_test, y_test)"
   ]
  },
  {
   "cell_type": "markdown",
   "metadata": {},
   "source": [
    "# MAGIC, around 98% accuracy!"
   ]
  },
  {
   "cell_type": "markdown",
   "metadata": {},
   "source": [
    "CNN"
   ]
  },
  {
   "cell_type": "code",
   "execution_count": 46,
   "metadata": {},
   "outputs": [],
   "source": [
    "cnn = tf.keras.models.Sequential([\n",
    "    tf.keras.layers.Conv2D(8, (3,3), input_shape=(28,28,1), padding='same', activation='relu'),\n",
    "    tf.keras.layers.MaxPool2D(),\n",
    "    tf.keras.layers.Conv2D(16, (3,3), padding='same', activation='relu'),\n",
    "    tf.keras.layers.MaxPool2D(),\n",
    "    tf.keras.layers.Conv2D(32, (3,3), padding='same', activation='relu'),\n",
    "    tf.keras.layers.Flatten(),\n",
    "    tf.keras.layers.Dense(128, activation='relu'),\n",
    "    tf.keras.layers.Dropout(0.2),\n",
    "    tf.keras.layers.Dense(10, activation='softmax')\n",
    "])"
   ]
  },
  {
   "cell_type": "code",
   "execution_count": 47,
   "metadata": {},
   "outputs": [],
   "source": [
    "cnn.compile(\"adam\", \"sparse_categorical_crossentropy\", metrics=['acc'])"
   ]
  },
  {
   "cell_type": "code",
   "execution_count": 48,
   "metadata": {},
   "outputs": [
    {
     "name": "stdout",
     "output_type": "stream",
     "text": [
      "Epoch 1/10\n",
      "60000/60000 [==============================] - 8s 133us/sample - loss: 0.1718 - acc: 0.9466\n",
      "Epoch 2/10\n",
      "60000/60000 [==============================] - 8s 130us/sample - loss: 0.0551 - acc: 0.9828\n",
      "Epoch 3/10\n",
      "60000/60000 [==============================] - 8s 128us/sample - loss: 0.0409 - acc: 0.9872\n",
      "Epoch 4/10\n",
      "60000/60000 [==============================] - 8s 130us/sample - loss: 0.0304 - acc: 0.9898\n",
      "Epoch 5/10\n",
      "60000/60000 [==============================] - 8s 131us/sample - loss: 0.0254 - acc: 0.9918\n",
      "Epoch 6/10\n",
      "60000/60000 [==============================] - 8s 133us/sample - loss: 0.0210 - acc: 0.9932\n",
      "Epoch 7/10\n",
      "60000/60000 [==============================] - 9s 144us/sample - loss: 0.0174 - acc: 0.9945\n",
      "Epoch 8/10\n",
      "60000/60000 [==============================] - 9s 156us/sample - loss: 0.0165 - acc: 0.9946\n",
      "Epoch 9/10\n",
      "60000/60000 [==============================] - 9s 156us/sample - loss: 0.0149 - acc: 0.9948\n",
      "Epoch 10/10\n",
      "60000/60000 [==============================] - 10s 164us/sample - loss: 0.0112 - acc: 0.9961\n"
     ]
    }
   ],
   "source": [
    "h2 = cnn.fit(x_train[..., None], y_train, epochs=10)"
   ]
  },
  {
   "cell_type": "code",
   "execution_count": 49,
   "metadata": {},
   "outputs": [
    {
     "data": {
      "text/plain": [
       "([<matplotlib.axis.XTick at 0x219272c8898>,\n",
       "  <matplotlib.axis.XTick at 0x2192cd4e400>,\n",
       "  <matplotlib.axis.XTick at 0x2192b248470>,\n",
       "  <matplotlib.axis.XTick at 0x2192b2240b8>,\n",
       "  <matplotlib.axis.XTick at 0x2192b224550>,\n",
       "  <matplotlib.axis.XTick at 0x2192b224c50>,\n",
       "  <matplotlib.axis.XTick at 0x2192b2ac438>,\n",
       "  <matplotlib.axis.XTick at 0x2192b2ac908>,\n",
       "  <matplotlib.axis.XTick at 0x2192b4647f0>,\n",
       "  <matplotlib.axis.XTick at 0x2192b464cf8>],\n",
       " <a list of 10 Text xticklabel objects>)"
      ]
     },
     "execution_count": 49,
     "metadata": {},
     "output_type": "execute_result"
    },
    {
     "data": {
      "image/png": "[encoded data removed]",
      "text/plain": [
       "<matplotlib.figure.Figure at 0x2192b18a1d0>"
      ]
     },
     "metadata": {},
     "output_type": "display_data"
    }
   ],
   "source": [
    "plt.plot(np.arange(10), h2.history['loss'], 'ko--')\n",
    "plt.ylabel(\"loss\")\n",
    "plt.xlabel(\"epoch\")\n",
    "plt.xticks(np.arange(10), np.arange(10)+1)"
   ]
  },
  {
   "cell_type": "code",
   "execution_count": 51,
   "metadata": {},
   "outputs": [
    {
     "name": "stdout",
     "output_type": "stream",
     "text": [
      "10000/10000 [==============================] - 1s 67us/sample - loss: 0.0316 - acc: 0.9924\n"
     ]
    },
    {
     "data": {
      "text/plain": [
       "[0.031559188796982565, 0.9924]"
      ]
     },
     "execution_count": 51,
     "metadata": {},
     "output_type": "execute_result"
    }
   ],
   "source": [
    "cnn.evaluate(x_test[..., None], y_test)"
   ]
  },
  {
   "cell_type": "markdown",
   "metadata": {},
   "source": [
    "## 99.2%!"
   ]
  },
  {
   "cell_type": "code",
   "execution_count": null,
   "metadata": {},
   "outputs": [],
   "source": []
  }
 ],
 "metadata": {
  "kernelspec": {
   "display_name": "Python 3",
   "language": "python",
   "name": "python3"
  },
  "language_info": {
   "codemirror_mode": {
    "name": "ipython",
    "version": 3
   },
   "file_extension": ".py",
   "mimetype": "text/x-python",
   "name": "python",
   "nbconvert_exporter": "python",
   "pygments_lexer": "ipython3",
   "version": "3.6.4"
  }
 },
 "nbformat": 4,
 "nbformat_minor": 2
}
